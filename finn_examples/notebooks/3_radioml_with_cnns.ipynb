{
 "cells": [
  {
   "cell_type": "markdown",
   "metadata": {},
   "source": [
    "# Initialize the accelerator"
   ]
  },
  {
   "cell_type": "code",
   "execution_count": 1,
   "metadata": {},
   "outputs": [],
   "source": [
    "# remember to install the following dependencies\n",
    "#! apt-get install libhdf5-dev -y\n",
    "#! pip install versioned-hdf5"
   ]
  },
  {
   "cell_type": "code",
   "execution_count": 2,
   "metadata": {},
   "outputs": [
    {
     "data": {
      "application/javascript": [
       "\n",
       "try {\n",
       "require(['notebook/js/codecell'], function(codecell) {\n",
       "  codecell.CodeCell.options_default.highlight_modes[\n",
       "      'magic_text/x-csrc'] = {'reg':[/^%%microblaze/]};\n",
       "  Jupyter.notebook.events.one('kernel_ready.Kernel', function(){\n",
       "      Jupyter.notebook.get_cells().map(function(cell){\n",
       "          if (cell.cell_type == 'code'){ cell.auto_highlight(); } }) ;\n",
       "  });\n",
       "});\n",
       "} catch (e) {};\n"
      ]
     },
     "metadata": {},
     "output_type": "display_data"
    },
    {
     "data": {
      "application/javascript": [
       "\n",
       "try {\n",
       "require(['notebook/js/codecell'], function(codecell) {\n",
       "  codecell.CodeCell.options_default.highlight_modes[\n",
       "      'magic_text/x-csrc'] = {'reg':[/^%%pybind11/]};\n",
       "  Jupyter.notebook.events.one('kernel_ready.Kernel', function(){\n",
       "      Jupyter.notebook.get_cells().map(function(cell){\n",
       "          if (cell.cell_type == 'code'){ cell.auto_highlight(); } }) ;\n",
       "  });\n",
       "});\n",
       "} catch (e) {};\n"
      ]
     },
     "metadata": {},
     "output_type": "display_data"
    },
    {
     "name": "stdout",
     "output_type": "stream",
     "text": [
      "['_radioml_io_shape_dict', 'vgg10_w2a2_radioml']\n"
     ]
    }
   ],
   "source": [
    "from finn_examples import models\n",
    "print(list(filter(lambda x: \"radioml\" in x, dir(models))))"
   ]
  },
  {
   "cell_type": "code",
   "execution_count": 3,
   "metadata": {},
   "outputs": [
    {
     "name": "stderr",
     "output_type": "stream",
     "text": [
      "/usr/local/lib/python3.6/dist-packages/pynq/ps.py:464: UserWarning: Setting frequency to the closest possible value 187.49812MHz.\n",
      "  round(freq_high / q0, 5)))\n"
     ]
    }
   ],
   "source": [
    "accel = models.vgg10_w4a3_radioml()\n",
    "#some systems might require a manual platform setting:\n",
    "#accel = models.vgg10_w4a3_radioml(\"ZCU102\")"
   ]
  },
  {
   "cell_type": "code",
   "execution_count": 4,
   "metadata": {},
   "outputs": [
    {
     "name": "stdout",
     "output_type": "stream",
     "text": [
      "Expected input shape and datatype: (1, 1024, 1, 2) DataType.INT8\n",
      "Expected output shape and datatype: (1, 1) DataType.UINT8\n"
     ]
    }
   ],
   "source": [
    "print(\"Expected input shape and datatype: %s %s\" % (str(accel.ishape_normal(0)), str(accel.idt(0))))\n",
    "print(\"Expected output shape and datatype: %s %s\" % (str(accel.oshape_normal(0)), str(accel.odt(0))))"
   ]
  },
  {
   "cell_type": "markdown",
   "metadata": {},
   "source": [
    "# Load RadioML 2018 dataset"
   ]
  },
  {
   "cell_type": "code",
   "execution_count": 5,
   "metadata": {},
   "outputs": [
    {
     "name": "stdout",
     "output_type": "stream",
     "text": [
      "/mnt/radioml_2018\n"
     ]
    }
   ],
   "source": [
    "import numpy as np\n",
    "import math\n",
    "import pickle\n",
    "import os\n",
    "import h5py\n",
    "\n",
    "dataset_dir = \"/mnt/radioml_2018\"\n",
    "print(dataset_dir)"
   ]
  },
  {
   "cell_type": "code",
   "execution_count": 6,
   "metadata": {},
   "outputs": [],
   "source": [
    "h5_file = h5py.File(dataset_dir + \"/GOLD_XYZ_OSC.0001_1024.hdf5\",'r')\n",
    "data_h5 = h5_file['X']\n",
    "label_mod = np.argmax(h5_file['Y'], axis=1) # comes in one-hot encoding\n",
    "label_snr = h5_file['Z'][:,0]\n",
    "\n",
    "# assemble list of test set indices\n",
    "# do not pre-load large dataset into memory\n",
    "np.random.seed(2018)\n",
    "test_indices = []\n",
    "for mod in range(0, 24): #all modulations (0 to 23)\n",
    "    for snr_idx in range(0, 26): #all SNRs (0 to 25 = -20dB to +30dB)\n",
    "        start_idx = 26*4096*mod + 4096*snr_idx\n",
    "        indices_subclass = list(range(start_idx, start_idx+4096))\n",
    "\n",
    "        split = int(np.ceil(0.1 * 4096)) #90%/10% split\n",
    "        np.random.shuffle(indices_subclass)\n",
    "        train_indices_subclass, val_indices_subclass = indices_subclass[split:], indices_subclass[:split]\n",
    "\n",
    "        if snr_idx >= 0: #select which SNRs to test on\n",
    "            test_indices.extend(val_indices_subclass)\n",
    "\n",
    "test_indices = sorted(test_indices)\n",
    "\n",
    "# note: labels given in the \"classes.txt\" file are not in the correct order (https://github.com/radioML/dataset/issues/25)\n",
    "mod_classes = ['OOK','4ASK','8ASK','BPSK','QPSK','8PSK','16PSK','32PSK',\n",
    "'16APSK','32APSK','64APSK','128APSK','16QAM','32QAM','64QAM','128QAM','256QAM',\n",
    "'AM-SSB-WC','AM-SSB-SC','AM-DSB-WC','AM-DSB-SC','FM','GMSK','OQPSK']\n",
    "snr_classes = np.arange(-20., 32., 2) # -20dB to 30dB"
   ]
  },
  {
   "cell_type": "code",
   "execution_count": 7,
   "metadata": {},
   "outputs": [
    {
     "name": "stdout",
     "output_type": "stream",
     "text": [
      "(2555904, 1024, 2)\n",
      "(2555904,)\n",
      "(2555904,)\n",
      "255840\n"
     ]
    }
   ],
   "source": [
    "print(data_h5.shape)\n",
    "print(label_mod.shape)\n",
    "print(label_snr.shape)\n",
    "print(len(test_indices))"
   ]
  },
  {
   "cell_type": "markdown",
   "metadata": {},
   "source": [
    "# Inspect a single frame"
   ]
  },
  {
   "cell_type": "code",
   "execution_count": 8,
   "metadata": {},
   "outputs": [
    {
     "name": "stdout",
     "output_type": "stream",
     "text": [
      "Modulation: 16QAM, SNR: 30.0 dB\n"
     ]
    }
   ],
   "source": [
    "from matplotlib import pyplot as plt\n",
    "\n",
    "# Inspect a frame\n",
    "mod = 12 # 0 to 23\n",
    "snr_idx = 25 # 0 to 25 = -20dB to +30dB\n",
    "sample = 123 # 0 to 4095\n",
    "#-----------------------#\n",
    "idx = 26*4096*mod + 4096*snr_idx + sample\n",
    "data, mod, snr = data_h5[idx], label_mod[idx], label_snr[idx]\n",
    "plt.figure()\n",
    "plt.plot(data)\n",
    "print(\"Modulation: %s, SNR: %.1f dB\" % (mod_classes[mod], snr))"
   ]
  },
  {
   "cell_type": "markdown",
   "metadata": {},
   "source": [
    "# Input quantization\n",
    "Quantize input data on-the-fly in software before feeding it to the accelerator. Use the uniform quantization range on which the model was trained."
   ]
  },
  {
   "cell_type": "code",
   "execution_count": 9,
   "metadata": {},
   "outputs": [],
   "source": [
    "def quantize(data):\n",
    "    quant_min = -1.7981509\n",
    "    quant_max = 1.7840475\n",
    "    quant_range = quant_max - quant_min\n",
    "    data_quant = (data - quant_min) / quant_range\n",
    "    data_quant = np.round(data_quant * 256) - 128\n",
    "    data_quant = np.clip(data_quant, -128, 127)\n",
    "    data_quant = data_quant.astype(np.int8)\n",
    "    return data_quant"
   ]
  },
  {
   "cell_type": "markdown",
   "metadata": {},
   "source": [
    "# Classify a single frame"
   ]
  },
  {
   "cell_type": "code",
   "execution_count": 10,
   "metadata": {},
   "outputs": [
    {
     "name": "stdout",
     "output_type": "stream",
     "text": [
      "Input buffer shape is (1, 1024, 1, 2) and datatype is int8\n"
     ]
    }
   ],
   "source": [
    "accel_in = quantize(data).reshape(accel.ishape_normal(0))\n",
    "print(\"Input buffer shape is %s and datatype is %s\" % (str(accel_in.shape), str(accel_in.dtype)))"
   ]
  },
  {
   "cell_type": "code",
   "execution_count": 11,
   "metadata": {},
   "outputs": [],
   "source": [
    "accel_out = accel.execute(accel_in)\n",
    "#accel_out = post_process(accel_out)"
   ]
  },
  {
   "cell_type": "code",
   "execution_count": 12,
   "metadata": {},
   "outputs": [
    {
     "name": "stdout",
     "output_type": "stream",
     "text": [
      "Result: [[12.]]\n",
      "Top-1 class predicted by the accelerator: 16QAM\n"
     ]
    }
   ],
   "source": [
    "print(\"Result: \" + str(accel_out))\n",
    "print(\"Top-1 class predicted by the accelerator: \" + mod_classes[int(accel_out)])"
   ]
  },
  {
   "cell_type": "code",
   "execution_count": 13,
   "metadata": {},
   "outputs": [
    {
     "name": "stdout",
     "output_type": "stream",
     "text": [
      "1000 loops, best of 3: 1.01 ms per loop\n"
     ]
    }
   ],
   "source": [
    "%%timeit\n",
    "accel_out = accel.execute(accel_in)"
   ]
  },
  {
   "cell_type": "markdown",
   "metadata": {},
   "source": [
    "# Validate accuracy on entire test set"
   ]
  },
  {
   "cell_type": "code",
   "execution_count": 14,
   "metadata": {},
   "outputs": [
    {
     "name": "stdout",
     "output_type": "stream",
     "text": [
      "Accelerator buffer shapes are (1024, 1024, 1, 2, 1) for input, (1024, 1, 1) for output\n",
      "Accelerator buffer shapes are (1024, 1024, 1, 2, 1) for input, (1024, 1, 1) for output\n",
      "Accelerator buffer shapes are (1024, 1024, 1, 2) for input, (1024, 1) for output\n"
     ]
    }
   ],
   "source": [
    "batch_size = 1024\n",
    "accel.batch_size = batch_size\n",
    "print(\"Accelerator buffer shapes are %s for input, %s for output\" % (str(accel.ishape_packed(0)), str(accel.oshape_packed(0))) )\n",
    "print(\"Accelerator buffer shapes are %s for input, %s for output\" % (str(accel.ishape_folded(0)), str(accel.oshape_folded(0))) )\n",
    "print(\"Accelerator buffer shapes are %s for input, %s for output\" % (str(accel.ishape_normal(0)), str(accel.oshape_normal(0))) )"
   ]
  },
  {
   "cell_type": "code",
   "execution_count": 15,
   "metadata": {
    "scrolled": true
   },
   "outputs": [
    {
     "name": "stdout",
     "output_type": "stream",
     "text": [
      "batch 0 : total OK 5 NOK 1019\n",
      "batch 1 : total OK 51 NOK 1997\n",
      "batch 2 : total OK 520 NOK 2552\n",
      "batch 3 : total OK 1370 NOK 2726\n",
      "batch 4 : total OK 2391 NOK 2729\n",
      "batch 5 : total OK 3415 NOK 2729\n",
      "batch 6 : total OK 4439 NOK 2729\n",
      "batch 7 : total OK 5463 NOK 2729\n",
      "batch 8 : total OK 6487 NOK 2729\n",
      "batch 9 : total OK 7511 NOK 2729\n",
      "batch 10 : total OK 7931 NOK 3333\n",
      "batch 11 : total OK 7934 NOK 4354\n",
      "batch 12 : total OK 7993 NOK 5319\n",
      "batch 13 : total OK 8360 NOK 5976\n",
      "batch 14 : total OK 9056 NOK 6304\n",
      "batch 15 : total OK 9940 NOK 6444\n",
      "batch 16 : total OK 10957 NOK 6451\n",
      "batch 17 : total OK 11977 NOK 6455\n",
      "batch 18 : total OK 13000 NOK 6456\n",
      "batch 19 : total OK 14020 NOK 6460\n",
      "batch 20 : total OK 14864 NOK 6640\n",
      "batch 21 : total OK 14923 NOK 7605\n",
      "batch 22 : total OK 15078 NOK 8474\n",
      "batch 23 : total OK 15374 NOK 9202\n",
      "batch 24 : total OK 16120 NOK 9480\n",
      "batch 25 : total OK 17031 NOK 9593\n",
      "batch 26 : total OK 18028 NOK 9620\n",
      "batch 27 : total OK 19051 NOK 9621\n",
      "batch 28 : total OK 20068 NOK 9628\n",
      "batch 29 : total OK 21087 NOK 9633\n",
      "batch 30 : total OK 22109 NOK 9635\n",
      "batch 31 : total OK 22403 NOK 10365\n",
      "batch 32 : total OK 22488 NOK 11304\n",
      "batch 33 : total OK 22743 NOK 12073\n",
      "batch 34 : total OK 23616 NOK 12224\n",
      "batch 35 : total OK 24640 NOK 12224\n",
      "batch 36 : total OK 25664 NOK 12224\n",
      "batch 37 : total OK 26688 NOK 12224\n",
      "batch 38 : total OK 27712 NOK 12224\n",
      "batch 39 : total OK 28736 NOK 12224\n",
      "batch 40 : total OK 29760 NOK 12224\n",
      "batch 41 : total OK 30416 NOK 12592\n",
      "batch 42 : total OK 30418 NOK 13614\n",
      "batch 43 : total OK 30419 NOK 14637\n",
      "batch 44 : total OK 30436 NOK 15644\n",
      "batch 45 : total OK 31002 NOK 16102\n",
      "batch 46 : total OK 32022 NOK 16106\n",
      "batch 47 : total OK 33046 NOK 16106\n",
      "batch 48 : total OK 34070 NOK 16106\n",
      "batch 49 : total OK 35094 NOK 16106\n",
      "batch 50 : total OK 36118 NOK 16106\n",
      "batch 51 : total OK 37142 NOK 16106\n",
      "batch 52 : total OK 37212 NOK 17060\n",
      "batch 53 : total OK 37229 NOK 18067\n",
      "batch 54 : total OK 37247 NOK 19073\n",
      "batch 55 : total OK 37257 NOK 20087\n",
      "batch 56 : total OK 37769 NOK 20599\n",
      "batch 57 : total OK 38779 NOK 20613\n",
      "batch 58 : total OK 39803 NOK 20613\n",
      "batch 59 : total OK 40827 NOK 20613\n",
      "batch 60 : total OK 41851 NOK 20613\n",
      "batch 61 : total OK 42875 NOK 20613\n",
      "batch 62 : total OK 43346 NOK 21166\n",
      "batch 63 : total OK 43346 NOK 22190\n",
      "batch 64 : total OK 43346 NOK 23214\n",
      "batch 65 : total OK 43347 NOK 24237\n",
      "batch 66 : total OK 43504 NOK 25104\n",
      "batch 67 : total OK 44217 NOK 25415\n",
      "batch 68 : total OK 45216 NOK 25440\n",
      "batch 69 : total OK 46238 NOK 25442\n",
      "batch 70 : total OK 47261 NOK 25443\n",
      "batch 71 : total OK 48283 NOK 25445\n",
      "batch 72 : total OK 49216 NOK 25536\n",
      "batch 73 : total OK 49596 NOK 26180\n",
      "batch 74 : total OK 49976 NOK 26824\n",
      "batch 75 : total OK 50393 NOK 27431\n",
      "batch 76 : total OK 50777 NOK 28071\n",
      "batch 77 : total OK 51158 NOK 28714\n",
      "batch 78 : total OK 51986 NOK 28910\n",
      "batch 79 : total OK 52990 NOK 28930\n",
      "batch 80 : total OK 54008 NOK 28936\n",
      "batch 81 : total OK 55024 NOK 28944\n",
      "batch 82 : total OK 56037 NOK 28955\n",
      "batch 83 : total OK 56324 NOK 29692\n",
      "batch 84 : total OK 56324 NOK 30716\n",
      "batch 85 : total OK 56325 NOK 31739\n",
      "batch 86 : total OK 56360 NOK 32728\n",
      "batch 87 : total OK 56904 NOK 33208\n",
      "batch 88 : total OK 57886 NOK 33250\n",
      "batch 89 : total OK 58910 NOK 33250\n",
      "batch 90 : total OK 59934 NOK 33250\n",
      "batch 91 : total OK 60958 NOK 33250\n",
      "batch 92 : total OK 61982 NOK 33250\n",
      "batch 93 : total OK 62688 NOK 33568\n",
      "batch 94 : total OK 62688 NOK 34592\n",
      "batch 95 : total OK 62688 NOK 35616\n",
      "batch 96 : total OK 62703 NOK 36625\n",
      "batch 97 : total OK 63109 NOK 37243\n",
      "batch 98 : total OK 63998 NOK 37378\n",
      "batch 99 : total OK 65016 NOK 37384\n",
      "batch 100 : total OK 66039 NOK 37385\n",
      "batch 101 : total OK 67063 NOK 37385\n",
      "batch 102 : total OK 68087 NOK 37385\n",
      "batch 103 : total OK 69110 NOK 37386\n",
      "batch 104 : total OK 69215 NOK 38305\n",
      "batch 105 : total OK 69215 NOK 39329\n",
      "batch 106 : total OK 69215 NOK 40353\n",
      "batch 107 : total OK 69223 NOK 41369\n",
      "batch 108 : total OK 69374 NOK 42242\n",
      "batch 109 : total OK 69913 NOK 42727\n",
      "batch 110 : total OK 70805 NOK 42859\n",
      "batch 111 : total OK 71733 NOK 42955\n",
      "batch 112 : total OK 72665 NOK 43047\n",
      "batch 113 : total OK 73600 NOK 43136\n",
      "batch 114 : total OK 74073 NOK 43687\n",
      "batch 115 : total OK 74073 NOK 44711\n",
      "batch 116 : total OK 74074 NOK 45734\n",
      "batch 117 : total OK 74075 NOK 46757\n",
      "batch 118 : total OK 74162 NOK 47694\n",
      "batch 119 : total OK 74685 NOK 48195\n",
      "batch 120 : total OK 75623 NOK 48281\n",
      "batch 121 : total OK 76612 NOK 48316\n",
      "batch 122 : total OK 77615 NOK 48337\n",
      "batch 123 : total OK 78608 NOK 48368\n",
      "batch 124 : total OK 79521 NOK 48479\n",
      "batch 125 : total OK 79528 NOK 49496\n",
      "batch 126 : total OK 79538 NOK 50510\n",
      "batch 127 : total OK 79553 NOK 51519\n",
      "batch 128 : total OK 79631 NOK 52465\n",
      "batch 129 : total OK 80030 NOK 53090\n",
      "batch 130 : total OK 80982 NOK 53162\n",
      "batch 131 : total OK 82005 NOK 53163\n",
      "batch 132 : total OK 83028 NOK 53164\n",
      "batch 133 : total OK 84051 NOK 53165\n",
      "batch 134 : total OK 85074 NOK 53166\n",
      "batch 135 : total OK 85414 NOK 53850\n",
      "batch 136 : total OK 85414 NOK 54874\n",
      "batch 137 : total OK 85414 NOK 55898\n",
      "batch 138 : total OK 85435 NOK 56901\n",
      "batch 139 : total OK 85606 NOK 57754\n",
      "batch 140 : total OK 86080 NOK 58304\n",
      "batch 141 : total OK 87002 NOK 58406\n",
      "batch 142 : total OK 87994 NOK 58438\n",
      "batch 143 : total OK 88990 NOK 58466\n",
      "batch 144 : total OK 89989 NOK 58491\n",
      "batch 145 : total OK 90720 NOK 58784\n",
      "batch 146 : total OK 90720 NOK 59808\n",
      "batch 147 : total OK 90720 NOK 60832\n",
      "batch 148 : total OK 90720 NOK 61856\n",
      "batch 149 : total OK 90726 NOK 62874\n",
      "batch 150 : total OK 90772 NOK 63852\n",
      "batch 151 : total OK 91140 NOK 64508\n",
      "batch 152 : total OK 91717 NOK 64955\n",
      "batch 153 : total OK 92309 NOK 65387\n",
      "batch 154 : total OK 92941 NOK 65779\n",
      "batch 155 : total OK 93564 NOK 66180\n",
      "batch 156 : total OK 93717 NOK 67051\n",
      "batch 157 : total OK 93806 NOK 67986\n",
      "batch 158 : total OK 93923 NOK 68893\n",
      "batch 159 : total OK 94149 NOK 69691\n",
      "batch 160 : total OK 94278 NOK 70586\n",
      "batch 161 : total OK 94655 NOK 71233\n",
      "batch 162 : total OK 95420 NOK 71492\n",
      "batch 163 : total OK 96239 NOK 71697\n",
      "batch 164 : total OK 97071 NOK 71889\n",
      "batch 165 : total OK 97911 NOK 72073\n",
      "batch 166 : total OK 98390 NOK 72618\n",
      "batch 167 : total OK 98406 NOK 73626\n",
      "batch 168 : total OK 98431 NOK 74625\n",
      "batch 169 : total OK 98497 NOK 75583\n",
      "batch 170 : total OK 98645 NOK 76459\n",
      "batch 171 : total OK 99041 NOK 77087\n",
      "batch 172 : total OK 99671 NOK 77481\n",
      "batch 173 : total OK 100412 NOK 77764\n",
      "batch 174 : total OK 101156 NOK 78044\n",
      "batch 175 : total OK 101917 NOK 78307\n",
      "batch 176 : total OK 102635 NOK 78613\n",
      "batch 177 : total OK 102702 NOK 79570\n",
      "batch 178 : total OK 102953 NOK 80343\n",
      "batch 179 : total OK 103569 NOK 80751\n",
      "batch 180 : total OK 104381 NOK 80963\n",
      "batch 181 : total OK 105164 NOK 81204\n",
      "batch 182 : total OK 106173 NOK 81219\n",
      "batch 183 : total OK 107165 NOK 81251\n",
      "batch 184 : total OK 108118 NOK 81322\n",
      "batch 185 : total OK 109045 NOK 81419\n",
      "batch 186 : total OK 109977 NOK 81511\n",
      "batch 187 : total OK 110393 NOK 82119\n",
      "batch 188 : total OK 110508 NOK 83028\n",
      "batch 189 : total OK 110612 NOK 83948\n",
      "batch 190 : total OK 110759 NOK 84825\n",
      "batch 191 : total OK 111221 NOK 85387\n",
      "batch 192 : total OK 111277 NOK 86355\n",
      "batch 193 : total OK 111336 NOK 87320\n",
      "batch 194 : total OK 111425 NOK 88255\n",
      "batch 195 : total OK 111554 NOK 89150\n",
      "batch 196 : total OK 111691 NOK 90037\n",
      "batch 197 : total OK 111800 NOK 90952\n",
      "batch 198 : total OK 111867 NOK 91909\n",
      "batch 199 : total OK 112010 NOK 92790\n",
      "batch 200 : total OK 112335 NOK 93489\n",
      "batch 201 : total OK 112898 NOK 93950\n",
      "batch 202 : total OK 113797 NOK 94075\n",
      "batch 203 : total OK 114799 NOK 94097\n",
      "batch 204 : total OK 115816 NOK 94104\n",
      "batch 205 : total OK 116825 NOK 94119\n",
      "batch 206 : total OK 117838 NOK 94130\n",
      "batch 207 : total OK 118844 NOK 94148\n",
      "batch 208 : total OK 119131 NOK 94885\n",
      "batch 209 : total OK 119332 NOK 95708\n",
      "batch 210 : total OK 119799 NOK 96265\n",
      "batch 211 : total OK 120511 NOK 96577\n",
      "batch 212 : total OK 121195 NOK 96917\n",
      "batch 213 : total OK 122086 NOK 97050\n",
      "batch 214 : total OK 122976 NOK 97184\n",
      "batch 215 : total OK 123898 NOK 97286\n",
      "batch 216 : total OK 124827 NOK 97381\n",
      "batch 217 : total OK 125740 NOK 97492\n",
      "batch 218 : total OK 126349 NOK 97907\n",
      "batch 219 : total OK 126519 NOK 98761\n",
      "batch 220 : total OK 126980 NOK 99324\n",
      "batch 221 : total OK 127978 NOK 99350\n",
      "batch 222 : total OK 129002 NOK 99350\n",
      "batch 223 : total OK 130026 NOK 99350\n",
      "batch 224 : total OK 131050 NOK 99350\n"
     ]
    },
    {
     "name": "stdout",
     "output_type": "stream",
     "text": [
      "batch 225 : total OK 132074 NOK 99350\n",
      "batch 226 : total OK 133098 NOK 99350\n",
      "batch 227 : total OK 134122 NOK 99350\n",
      "batch 228 : total OK 135146 NOK 99350\n",
      "batch 229 : total OK 135170 NOK 100350\n",
      "batch 230 : total OK 135173 NOK 101371\n",
      "batch 231 : total OK 135266 NOK 102302\n",
      "batch 232 : total OK 136058 NOK 102534\n",
      "batch 233 : total OK 137082 NOK 102534\n",
      "batch 234 : total OK 138106 NOK 102534\n",
      "batch 235 : total OK 139130 NOK 102534\n",
      "batch 236 : total OK 140154 NOK 102534\n",
      "batch 237 : total OK 141178 NOK 102534\n",
      "batch 238 : total OK 142202 NOK 102534\n",
      "batch 239 : total OK 142647 NOK 103113\n",
      "batch 240 : total OK 142647 NOK 104137\n",
      "batch 241 : total OK 142649 NOK 105159\n",
      "batch 242 : total OK 142742 NOK 106090\n",
      "batch 243 : total OK 143513 NOK 106343\n",
      "batch 244 : total OK 144535 NOK 106345\n",
      "batch 245 : total OK 145559 NOK 106345\n",
      "batch 246 : total OK 146583 NOK 106345\n",
      "batch 247 : total OK 147607 NOK 106345\n",
      "batch 248 : total OK 148631 NOK 106345\n",
      "batch 249 : total OK 149495 NOK 106345\n"
     ]
    }
   ],
   "source": [
    "ok = 0\n",
    "nok = 0\n",
    "total = len(test_indices)\n",
    "for i_batch in range(math.ceil(total/batch_size)):\n",
    "    i_frame = i_batch*batch_size\n",
    "    if i_frame+batch_size > total:\n",
    "        batch_size = total - i_frame\n",
    "        accel.batch_size = batch_size\n",
    "    batch_indices = test_indices[i_frame:i_frame+batch_size]\n",
    "    data, mod, snr = data_h5[batch_indices], label_mod[batch_indices], label_snr[batch_indices]\n",
    "\n",
    "    ibuf = quantize(data).reshape(accel.ishape_normal(0))\n",
    "    obuf = accel.execute(ibuf)\n",
    "\n",
    "    pred = obuf.reshape(batch_size).astype(int)\n",
    "\n",
    "    ok += np.equal(pred, mod).sum().item()\n",
    "    nok += np.not_equal(pred, mod).sum().item()\n",
    "    \n",
    "    print(\"batch %d : total OK %d NOK %d\" % (i_batch, ok, nok))"
   ]
  },
  {
   "cell_type": "code",
   "execution_count": 16,
   "metadata": {},
   "outputs": [
    {
     "name": "stdout",
     "output_type": "stream",
     "text": [
      "Overall top-1 accuracy: 58.43300500312696%\n"
     ]
    }
   ],
   "source": [
    "acc = 100.0 * ok / (total)\n",
    "print(\"Overall top-1 accuracy: {}%\".format(acc))"
   ]
  },
  {
   "cell_type": "markdown",
   "metadata": {},
   "source": [
    "## More benchmarking"
   ]
  },
  {
   "cell_type": "code",
   "execution_count": 18,
   "metadata": {},
   "outputs": [
    {
     "data": {
      "text/plain": [
       "{'DRAM_in_bandwidth[Mb/s]': 64.74523228253237,\n",
       " 'DRAM_out_bandwidth[Mb/s]': 0.03161388295045526,\n",
       " 'batch_size': 1024,\n",
       " 'copy_input_data_to_device[ms]': 2.189159393310547,\n",
       " 'copy_output_data_from_device[ms]': 0.08916854858398438,\n",
       " 'fclk[mhz]': 187.498125,\n",
       " 'fold_input[ms]': 0.1010894775390625,\n",
       " 'pack_input[ms]': 0.1556873321533203,\n",
       " 'runtime[ms]': 32.39083290100098,\n",
       " 'throughput[images/s]': 31613.88295045526,\n",
       " 'unfold_output[ms]': 0.08726119995117188,\n",
       " 'unpack_output[ms]': 0.6263256072998047}"
      ]
     },
     "execution_count": 18,
     "metadata": {},
     "output_type": "execute_result"
    }
   ],
   "source": [
    "accel.batch_size = 1024\n",
    "accel.throughput_test()"
   ]
  },
  {
   "cell_type": "code",
   "execution_count": null,
   "metadata": {},
   "outputs": [],
   "source": []
  }
 ],
 "metadata": {
  "kernelspec": {
   "display_name": "Python 3 (ipykernel)",
   "language": "python",
   "name": "python3"
  },
  "language_info": {
   "codemirror_mode": {
    "name": "ipython",
    "version": 3
   },
   "file_extension": ".py",
   "mimetype": "text/x-python",
   "name": "python",
   "nbconvert_exporter": "python",
   "pygments_lexer": "ipython3",
   "version": "3.8.5"
  }
 },
 "nbformat": 4,
 "nbformat_minor": 2
}
