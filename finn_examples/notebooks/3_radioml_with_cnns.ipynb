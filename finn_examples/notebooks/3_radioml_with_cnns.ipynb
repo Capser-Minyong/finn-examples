{
 "cells": [
  {
   "cell_type": "markdown",
   "metadata": {},
   "source": [
    "# Initialize the accelerator"
   ]
  },
  {
   "cell_type": "code",
   "execution_count": 1,
   "metadata": {},
   "outputs": [
    {
     "name": "stdout",
     "output_type": "stream",
     "text": [
      "Requirement already satisfied: pip in /usr/local/lib/python3.6/dist-packages (21.1.1)\n",
      "Collecting pip\n",
      "  Downloading pip-21.1.2-py3-none-any.whl (1.5 MB)\n",
      "\u001b[K     |████████████████████████████████| 1.5 MB 2.1 MB/s eta 0:00:01     |██████████████▋                 | 706 kB 2.1 MB/s eta 0:00:01\n",
      "\u001b[?25hRequirement already satisfied: setuptools in /usr/local/lib/python3.6/dist-packages (56.2.0)\n",
      "Collecting setuptools\n",
      "  Downloading setuptools-57.0.0-py3-none-any.whl (821 kB)\n",
      "\u001b[K     |████████████████████████████████| 821 kB 6.9 MB/s eta 0:00:01\n",
      "\u001b[?25hRequirement already satisfied: wheel in /usr/local/lib/python3.6/dist-packages (0.36.2)\n",
      "Installing collected packages: setuptools, pip\n",
      "  Attempting uninstall: setuptools\n",
      "    Found existing installation: setuptools 56.2.0\n",
      "    Uninstalling setuptools-56.2.0:\n",
      "      Successfully uninstalled setuptools-56.2.0\n",
      "  Attempting uninstall: pip\n",
      "    Found existing installation: pip 21.1.1\n",
      "    Uninstalling pip-21.1.1:\n",
      "      Successfully uninstalled pip-21.1.1\n",
      "Successfully installed pip-21.1.2 setuptools-57.0.0\n",
      "\u001b[33mWARNING: Running pip as root will break packages and permissions. You should install packages reliably by using venv: https://pip.pypa.io/warnings/venv\u001b[0m\n",
      "Requirement already satisfied: versioned-hdf5 in /usr/local/lib/python3.6/dist-packages (1.2)\n",
      "Requirement already satisfied: h5py<3 in /usr/local/lib/python3.6/dist-packages (from versioned-hdf5) (2.10.0)\n",
      "Requirement already satisfied: numpy in /usr/local/lib/python3.6/dist-packages (from versioned-hdf5) (1.16.0)\n",
      "Requirement already satisfied: ndindex>=1.3 in /usr/local/lib/python3.6/dist-packages (from versioned-hdf5) (1.4)\n",
      "Requirement already satisfied: six in /usr/lib/python3/dist-packages (from h5py<3->versioned-hdf5) (1.11.0)\n",
      "Requirement already satisfied: sympy in /usr/lib/python3/dist-packages (from ndindex>=1.3->versioned-hdf5) (1.1.1)\n",
      "\u001b[33mWARNING: Running pip as root will break packages and permissions. You should install packages reliably by using venv: https://pip.pypa.io/warnings/venv\u001b[0m\n",
      "Requirement already satisfied: h5py in /usr/local/lib/python3.6/dist-packages (2.10.0)\n",
      "Requirement already satisfied: six in /usr/lib/python3/dist-packages (from h5py) (1.11.0)\n",
      "Requirement already satisfied: numpy>=1.7 in /usr/local/lib/python3.6/dist-packages (from h5py) (1.16.0)\n",
      "\u001b[33mWARNING: Running pip as root will break packages and permissions. You should install packages reliably by using venv: https://pip.pypa.io/warnings/venv\u001b[0m\n"
     ]
    }
   ],
   "source": [
    "# apt-get install libhdf5-dev\n",
    "#! pip install --upgrade pip setuptools wheel\n",
    "! pip install versioned-hdf5\n",
    "#! pip install h5py"
   ]
  },
  {
   "cell_type": "code",
   "execution_count": 2,
   "metadata": {},
   "outputs": [
    {
     "data": {
      "application/javascript": [
       "\n",
       "try {\n",
       "require(['notebook/js/codecell'], function(codecell) {\n",
       "  codecell.CodeCell.options_default.highlight_modes[\n",
       "      'magic_text/x-csrc'] = {'reg':[/^%%microblaze/]};\n",
       "  Jupyter.notebook.events.one('kernel_ready.Kernel', function(){\n",
       "      Jupyter.notebook.get_cells().map(function(cell){\n",
       "          if (cell.cell_type == 'code'){ cell.auto_highlight(); } }) ;\n",
       "  });\n",
       "});\n",
       "} catch (e) {};\n"
      ]
     },
     "metadata": {},
     "output_type": "display_data"
    },
    {
     "data": {
      "application/javascript": [
       "\n",
       "try {\n",
       "require(['notebook/js/codecell'], function(codecell) {\n",
       "  codecell.CodeCell.options_default.highlight_modes[\n",
       "      'magic_text/x-csrc'] = {'reg':[/^%%pybind11/]};\n",
       "  Jupyter.notebook.events.one('kernel_ready.Kernel', function(){\n",
       "      Jupyter.notebook.get_cells().map(function(cell){\n",
       "          if (cell.cell_type == 'code'){ cell.auto_highlight(); } }) ;\n",
       "  });\n",
       "});\n",
       "} catch (e) {};\n"
      ]
     },
     "metadata": {},
     "output_type": "display_data"
    }
   ],
   "source": [
    "import os\n",
    "import sys\n",
    "module_path = os.path.abspath(os.path.join('/home/xilinx/radioml_deploy'))\n",
    "if module_path not in sys.path:\n",
    "    sys.path.append(module_path)\n",
    "    \n",
    "from driver.driver_base import FINNExampleOverlay\n",
    "from finn.core.datatype import DataType"
   ]
  },
  {
   "cell_type": "code",
   "execution_count": 3,
   "metadata": {},
   "outputs": [],
   "source": [
    "# taken from generated driver.py:\n",
    "io_shape_dict = {\n",
    "    # FINN DataType for input and output tensors\n",
    "    \"idt\" : DataType.INT8,\n",
    "    \"odt\" : DataType.UINT8,\n",
    "    # shapes for input and output tensors (NHWC layout)\n",
    "    \"ishape_normal\" : (1, 128, 1, 16),\n",
    "    \"oshape_normal\" : (1, 1),\n",
    "    # folded / packed shapes below depend on idt/odt and input/output\n",
    "    # PE/SIMD parallelization settings -- these are calculated by the\n",
    "    # FINN compiler.\n",
    "    \"ishape_folded\" : (1, 128, 1, 4, 4),\n",
    "    \"oshape_folded\" : (1, 1, 1),\n",
    "    \"ishape_packed\" : (1, 128, 1, 4, 4),\n",
    "    \"oshape_packed\" : (1, 1, 1),\n",
    "    \"input_dma_name\" : 'idma0',\n",
    "    \"number_of_external_weights\": 0\n",
    "}\n",
    "\n",
    "accel = FINNExampleOverlay(\n",
    "        bitfile_name = \"/home/xilinx/radioml_deploy/bitfile/finn-accel.bit\", platform = \"zynq-iodma\",\n",
    "        io_shape_dict = io_shape_dict, batch_size = 1, fclk_mhz = 187.0)"
   ]
  },
  {
   "cell_type": "code",
   "execution_count": 4,
   "metadata": {},
   "outputs": [
    {
     "name": "stdout",
     "output_type": "stream",
     "text": [
      "Expected input shape and datatype: (1, 128, 1, 16) DataType.INT8\n",
      "Expected output shape and datatype: (1, 1) DataType.UINT8\n"
     ]
    }
   ],
   "source": [
    "print(\"Expected input shape and datatype: %s %s\" % (str(accel.ishape_normal), str(accel.idt)))\n",
    "print(\"Expected output shape and datatype: %s %s\" % (str(accel.oshape_normal), str(accel.odt)))"
   ]
  },
  {
   "cell_type": "markdown",
   "metadata": {},
   "source": [
    "# Load RadioML 2018 dataset"
   ]
  },
  {
   "cell_type": "code",
   "execution_count": 5,
   "metadata": {},
   "outputs": [
    {
     "name": "stdout",
     "output_type": "stream",
     "text": [
      "/home/xilinx/dataset/RadioML\n"
     ]
    }
   ],
   "source": [
    "import numpy as np\n",
    "import pickle\n",
    "import os\n",
    "import h5py\n",
    "\n",
    "val_dir = \"/home/xilinx/dataset/RadioML\"\n",
    "print(val_dir)"
   ]
  },
  {
   "cell_type": "code",
   "execution_count": 6,
   "metadata": {},
   "outputs": [],
   "source": [
    "h5_file = h5py.File(val_dir + \"/2018/GOLD_XYZ_OSC.0001_1024.hdf5\",'r')\n",
    "X = h5_file['X']\n",
    "Y = np.argmax(h5_file['Y'], axis=1) # comes in one-hot encoding\n",
    "Z = h5_file['Z'][:,0]\n",
    "\n",
    "np.random.seed(2018)\n",
    "test_indices = []\n",
    "for mod in range(0, 24): #all modulations (0 to 23)\n",
    "    for snr_idx in range(0, 26): #all SNRs (0 to 25 = -20dB to +30dB)\n",
    "        start_idx = 26*4096*mod + 4096*snr_idx\n",
    "        indices_subclass = list(range(start_idx, start_idx+4096))\n",
    "\n",
    "        split = int(np.ceil(0.1 * 4096)) #90%/10% split\n",
    "        np.random.shuffle(indices_subclass)\n",
    "        train_indices_subclass, val_indices_subclass = indices_subclass[split:], indices_subclass[:split]\n",
    "\n",
    "        if snr_idx >= 25: #only SNR >= +30dB\n",
    "            test_indices.extend(val_indices_subclass)\n",
    "\n",
    "test_indices = np.sort(test_indices)\n",
    "\n",
    "X_test = X[test_indices]\n",
    "Y_test = Y[test_indices]\n",
    "Z_test = Z[test_indices]\n",
    "\n",
    "# bring into 4D NHWC format\n",
    "#X_test = np.expand_dims(X_test, 2)\n",
    "\n",
    "# note: labels given in the \"classes.txt\" file are not in the correct order (https://github.com/radioML/dataset/issues/25)\n",
    "self.mod_classes = ['OOK','4ASK','8ASK','BPSK','QPSK','8PSK','16PSK','32PSK',\n",
    "'16APSK','32APSK','64APSK','128APSK','16QAM','32QAM','64QAM','128QAM','256QAM',\n",
    "'AM-SSB-WC','AM-SSB-SC','AM-DSB-WC','AM-DSB-SC','FM','GMSK','OQPSK']\n",
    "snr_classes = np.arange(-20., 32., 2) # -20dB to 30dB"
   ]
  },
  {
   "cell_type": "code",
   "execution_count": 7,
   "metadata": {},
   "outputs": [
    {
     "name": "stdout",
     "output_type": "stream",
     "text": [
      "(9840, 1024, 2)\n",
      "(9840,)\n",
      "(9840,)\n",
      "[ 102401  102404  102414 ... 2555870 2555878 2555889]\n"
     ]
    }
   ],
   "source": [
    "print(X_test.shape)\n",
    "print(Y_test.shape)\n",
    "print(Z_test.shape)\n",
    "print(test_indices)"
   ]
  },
  {
   "cell_type": "markdown",
   "metadata": {},
   "source": [
    "# Inspect a single sample"
   ]
  },
  {
   "cell_type": "code",
   "execution_count": 8,
   "metadata": {},
   "outputs": [
    {
     "name": "stdout",
     "output_type": "stream",
     "text": [
      "Modulation: 32QAM, SNR: 30.0 dB\n"
     ]
    }
   ],
   "source": [
    "from matplotlib import pyplot as plt\n",
    "\n",
    "idx = 1086\n",
    "data, mod, snr = X_test[idx], Y_test[idx], Z_test[idx]\n",
    "plt.figure()\n",
    "plt.plot(data)\n",
    "print(\"Modulation: %s, SNR: %.1f dB\" % (mod_classes[mod], snr))"
   ]
  },
  {
   "cell_type": "markdown",
   "metadata": {},
   "source": [
    "# Quantize dataset"
   ]
  },
  {
   "cell_type": "code",
   "execution_count": 9,
   "metadata": {},
   "outputs": [
    {
     "name": "stdout",
     "output_type": "stream",
     "text": [
      "Modulation: 32QAM, SNR: 30.0 dB\n"
     ]
    },
    {
     "data": {
      "image/png": "[encoded data removed]",
      "text/plain": [
       "<matplotlib.figure.Figure at 0x7f8b115320>"
      ]
     },
     "metadata": {},
     "output_type": "display_data"
    }
   ],
   "source": [
    "def quantize(data, quant_min, quant_max):\n",
    "    quant_range = quant_max - quant_min\n",
    "    data_quant = (data - quant_min) / quant_range\n",
    "    data_quant = np.round(data_quant * 256) - 128\n",
    "    data_quant = np.clip(data_quant, -128, 127)\n",
    "    data_quant = data_quant.astype(np.int8)\n",
    "    return data_quant\n",
    "\n",
    "#whole validation set:\n",
    "quant_min = -2.0\n",
    "quant_max = 2.0\n",
    "X_test = quantize(X_test, quant_min, quant_max)\n",
    "\n",
    "idx = 1086\n",
    "data, mod, snr = X_test[idx], Y_test[idx], Z_test[idx]\n",
    "plt.figure()\n",
    "plt.plot(data)\n",
    "print(\"Modulation: %s, SNR: %.1f dB\" % (mod_classes[mod], snr))"
   ]
  },
  {
   "cell_type": "markdown",
   "metadata": {},
   "source": [
    "# Classify a single sample"
   ]
  },
  {
   "cell_type": "code",
   "execution_count": 10,
   "metadata": {},
   "outputs": [
    {
     "name": "stdout",
     "output_type": "stream",
     "text": [
      "Input buffer shape is (1, 128, 1, 16) and datatype is int8\n"
     ]
    }
   ],
   "source": [
    "accel_in = data.reshape(accel.ishape_normal)\n",
    "print(\"Input buffer shape is %s and datatype is %s\" % (str(accel_in.shape), str(accel_in.dtype)))"
   ]
  },
  {
   "cell_type": "code",
   "execution_count": 11,
   "metadata": {},
   "outputs": [],
   "source": [
    "accel_out = accel.execute(accel_in)\n",
    "#accel_out = post_process(accel_out)"
   ]
  },
  {
   "cell_type": "code",
   "execution_count": 13,
   "metadata": {},
   "outputs": [
    {
     "name": "stdout",
     "output_type": "stream",
     "text": [
      "Result: [[18.]]\n",
      "Top-1 class predicted by the accelerator: 64QAM\n"
     ]
    }
   ],
   "source": [
    "print(\"Result: \" + str(accel_out))\n",
    "print(\"Top-1 class predicted by the accelerator: \" + mod_classes[int(accel_out)])"
   ]
  },
  {
   "cell_type": "code",
   "execution_count": 14,
   "metadata": {},
   "outputs": [
    {
     "name": "stdout",
     "output_type": "stream",
     "text": [
      "1000 loops, best of 3: 843 µs per loop\n"
     ]
    }
   ],
   "source": [
    "%%timeit\n",
    "accel_out = accel.execute(accel_in)"
   ]
  },
  {
   "cell_type": "markdown",
   "metadata": {},
   "source": [
    "# Validate accuracy on entire validation set"
   ]
  },
  {
   "cell_type": "code",
   "execution_count": 15,
   "metadata": {},
   "outputs": [
    {
     "name": "stdout",
     "output_type": "stream",
     "text": [
      "Accelerator buffer shapes are (120, 128, 1, 4, 4) for input, (120, 1, 1) for output\n",
      "Accelerator buffer shapes are (120, 128, 1, 4, 4) for input, (120, 1, 1) for output\n",
      "Accelerator buffer shapes are (120, 128, 1, 16) for input, (120, 1) for output\n"
     ]
    }
   ],
   "source": [
    "batch_size = 120\n",
    "accel.batch_size = batch_size\n",
    "print(\"Accelerator buffer shapes are %s for input, %s for output\" % (str(accel.ishape_packed), str(accel.oshape_packed)) )\n",
    "print(\"Accelerator buffer shapes are %s for input, %s for output\" % (str(accel.ishape_folded), str(accel.oshape_folded)) )\n",
    "print(\"Accelerator buffer shapes are %s for input, %s for output\" % (str(accel.ishape_normal), str(accel.oshape_normal)) )"
   ]
  },
  {
   "cell_type": "code",
   "execution_count": 32,
   "metadata": {
    "scrolled": true
   },
   "outputs": [
    {
     "name": "stdout",
     "output_type": "stream",
     "text": [
      "(120, 128, 16)\n",
      "(120, 128, 1, 16)\n",
      "batch 0 : total OK 119 NOK 1\n",
      "(120, 128, 16)\n",
      "(120, 128, 1, 16)\n",
      "batch 1 : total OK 239 NOK 1\n",
      "(120, 128, 16)\n",
      "(120, 128, 1, 16)\n",
      "batch 2 : total OK 359 NOK 1\n",
      "(120, 128, 16)\n",
      "(120, 128, 1, 16)\n",
      "batch 3 : total OK 471 NOK 9\n",
      "(120, 128, 16)\n",
      "(120, 128, 1, 16)\n",
      "batch 4 : total OK 585 NOK 15\n",
      "(120, 128, 16)\n",
      "(120, 128, 1, 16)\n",
      "batch 5 : total OK 691 NOK 29\n",
      "(120, 128, 16)\n",
      "(120, 128, 1, 16)\n",
      "batch 6 : total OK 792 NOK 48\n",
      "(120, 128, 16)\n",
      "(120, 128, 1, 16)\n",
      "batch 7 : total OK 894 NOK 66\n",
      "(120, 128, 16)\n",
      "(120, 128, 1, 16)\n",
      "batch 8 : total OK 998 NOK 82\n",
      "(120, 128, 16)\n",
      "(120, 128, 1, 16)\n",
      "batch 9 : total OK 1105 NOK 95\n",
      "(120, 128, 16)\n",
      "(120, 128, 1, 16)\n",
      "batch 10 : total OK 1219 NOK 101\n",
      "(120, 128, 16)\n",
      "(120, 128, 1, 16)\n",
      "batch 11 : total OK 1339 NOK 101\n",
      "(120, 128, 16)\n",
      "(120, 128, 1, 16)\n",
      "batch 12 : total OK 1459 NOK 101\n",
      "(120, 128, 16)\n",
      "(120, 128, 1, 16)\n",
      "batch 13 : total OK 1579 NOK 101\n",
      "(120, 128, 16)\n",
      "(120, 128, 1, 16)\n",
      "batch 14 : total OK 1698 NOK 102\n",
      "(120, 128, 16)\n",
      "(120, 128, 1, 16)\n",
      "batch 15 : total OK 1818 NOK 102\n",
      "(120, 128, 16)\n",
      "(120, 128, 1, 16)\n",
      "batch 16 : total OK 1938 NOK 102\n",
      "(120, 128, 16)\n",
      "(120, 128, 1, 16)\n",
      "batch 17 : total OK 2048 NOK 112\n",
      "(120, 128, 16)\n",
      "(120, 128, 1, 16)\n",
      "batch 18 : total OK 2160 NOK 120\n",
      "(120, 128, 16)\n",
      "(120, 128, 1, 16)\n",
      "batch 19 : total OK 2262 NOK 138\n",
      "(120, 128, 16)\n",
      "(120, 128, 1, 16)\n",
      "batch 20 : total OK 2348 NOK 172\n",
      "(120, 128, 16)\n",
      "(120, 128, 1, 16)\n",
      "batch 21 : total OK 2395 NOK 245\n",
      "(120, 128, 16)\n",
      "(120, 128, 1, 16)\n",
      "batch 22 : total OK 2441 NOK 319\n",
      "(120, 128, 16)\n",
      "(120, 128, 1, 16)\n",
      "batch 23 : total OK 2501 NOK 379\n",
      "(120, 128, 16)\n",
      "(120, 128, 1, 16)\n",
      "batch 24 : total OK 2571 NOK 429\n",
      "(120, 128, 16)\n",
      "(120, 128, 1, 16)\n",
      "batch 25 : total OK 2650 NOK 470\n",
      "(120, 128, 16)\n",
      "(120, 128, 1, 16)\n",
      "batch 26 : total OK 2725 NOK 515\n",
      "(120, 128, 16)\n",
      "(120, 128, 1, 16)\n",
      "batch 27 : total OK 2832 NOK 528\n",
      "(120, 128, 16)\n",
      "(120, 128, 1, 16)\n",
      "batch 28 : total OK 2947 NOK 533\n",
      "(120, 128, 16)\n",
      "(120, 128, 1, 16)\n",
      "batch 29 : total OK 3064 NOK 536\n",
      "(120, 128, 16)\n",
      "(120, 128, 1, 16)\n",
      "batch 30 : total OK 3181 NOK 539\n",
      "(120, 128, 16)\n",
      "(120, 128, 1, 16)\n",
      "batch 31 : total OK 3298 NOK 542\n",
      "(120, 128, 16)\n",
      "(120, 128, 1, 16)\n",
      "batch 32 : total OK 3415 NOK 545\n",
      "(120, 128, 16)\n",
      "(120, 128, 1, 16)\n",
      "batch 33 : total OK 3531 NOK 549\n",
      "(120, 128, 16)\n",
      "(120, 128, 1, 16)\n",
      "batch 34 : total OK 3611 NOK 589\n",
      "(120, 128, 16)\n",
      "(120, 128, 1, 16)\n",
      "batch 35 : total OK 3672 NOK 648\n",
      "(120, 128, 16)\n",
      "(120, 128, 1, 16)\n",
      "batch 36 : total OK 3727 NOK 713\n",
      "(120, 128, 16)\n",
      "(120, 128, 1, 16)\n",
      "batch 37 : total OK 3783 NOK 777\n",
      "(120, 128, 16)\n",
      "(120, 128, 1, 16)\n",
      "batch 38 : total OK 3846 NOK 834\n",
      "(120, 128, 16)\n",
      "(120, 128, 1, 16)\n",
      "batch 39 : total OK 3903 NOK 897\n",
      "(120, 128, 16)\n",
      "(120, 128, 1, 16)\n",
      "batch 40 : total OK 3970 NOK 950\n",
      "(120, 128, 16)\n",
      "(120, 128, 1, 16)\n",
      "batch 41 : total OK 4063 NOK 977\n",
      "(120, 128, 16)\n",
      "(120, 128, 1, 16)\n",
      "batch 42 : total OK 4146 NOK 1014\n",
      "(120, 128, 16)\n",
      "(120, 128, 1, 16)\n",
      "batch 43 : total OK 4239 NOK 1041\n",
      "(120, 128, 16)\n",
      "(120, 128, 1, 16)\n",
      "batch 44 : total OK 4315 NOK 1085\n",
      "(120, 128, 16)\n",
      "(120, 128, 1, 16)\n",
      "batch 45 : total OK 4381 NOK 1139\n",
      "(120, 128, 16)\n",
      "(120, 128, 1, 16)\n",
      "batch 46 : total OK 4452 NOK 1188\n",
      "(120, 128, 16)\n",
      "(120, 128, 1, 16)\n",
      "batch 47 : total OK 4513 NOK 1247\n",
      "(120, 128, 16)\n",
      "(120, 128, 1, 16)\n",
      "batch 48 : total OK 4553 NOK 1327\n",
      "(120, 128, 16)\n",
      "(120, 128, 1, 16)\n",
      "batch 49 : total OK 4600 NOK 1400\n",
      "(120, 128, 16)\n",
      "(120, 128, 1, 16)\n",
      "batch 50 : total OK 4644 NOK 1476\n",
      "(120, 128, 16)\n",
      "(120, 128, 1, 16)\n",
      "batch 51 : total OK 4665 NOK 1575\n",
      "(120, 128, 16)\n",
      "(120, 128, 1, 16)\n",
      "batch 52 : total OK 4672 NOK 1688\n",
      "(120, 128, 16)\n",
      "(120, 128, 1, 16)\n",
      "batch 53 : total OK 4685 NOK 1795\n",
      "(120, 128, 16)\n",
      "(120, 128, 1, 16)\n",
      "batch 54 : total OK 4700 NOK 1900\n",
      "(120, 128, 16)\n",
      "(120, 128, 1, 16)\n",
      "batch 55 : total OK 4719 NOK 2001\n",
      "(120, 128, 16)\n",
      "(120, 128, 1, 16)\n",
      "batch 56 : total OK 4736 NOK 2104\n",
      "(120, 128, 16)\n",
      "(120, 128, 1, 16)\n",
      "batch 57 : total OK 4754 NOK 2206\n",
      "(120, 128, 16)\n",
      "(120, 128, 1, 16)\n",
      "batch 58 : total OK 4841 NOK 2239\n",
      "(120, 128, 16)\n",
      "(120, 128, 1, 16)\n",
      "batch 59 : total OK 4930 NOK 2270\n",
      "(120, 128, 16)\n",
      "(120, 128, 1, 16)\n",
      "batch 60 : total OK 5013 NOK 2307\n",
      "(120, 128, 16)\n",
      "(120, 128, 1, 16)\n",
      "batch 61 : total OK 5084 NOK 2356\n",
      "(120, 128, 16)\n",
      "(120, 128, 1, 16)\n",
      "batch 62 : total OK 5116 NOK 2444\n",
      "(120, 128, 16)\n",
      "(120, 128, 1, 16)\n",
      "batch 63 : total OK 5152 NOK 2528\n",
      "(120, 128, 16)\n",
      "(120, 128, 1, 16)\n",
      "batch 64 : total OK 5187 NOK 2613\n",
      "(120, 128, 16)\n",
      "(120, 128, 1, 16)\n",
      "batch 65 : total OK 5302 NOK 2618\n",
      "(120, 128, 16)\n",
      "(120, 128, 1, 16)\n",
      "batch 66 : total OK 5417 NOK 2623\n",
      "(120, 128, 16)\n",
      "(120, 128, 1, 16)\n",
      "batch 67 : total OK 5536 NOK 2624\n",
      "(120, 128, 16)\n",
      "(120, 128, 1, 16)\n",
      "batch 68 : total OK 5636 NOK 2644\n",
      "(120, 128, 16)\n",
      "(120, 128, 1, 16)\n",
      "batch 69 : total OK 5731 NOK 2669\n",
      "(120, 128, 16)\n",
      "(120, 128, 1, 16)\n",
      "batch 70 : total OK 5823 NOK 2697\n",
      "(120, 128, 16)\n",
      "(120, 128, 1, 16)\n",
      "batch 71 : total OK 5925 NOK 2715\n",
      "(120, 128, 16)\n",
      "(120, 128, 1, 16)\n",
      "batch 72 : total OK 6045 NOK 2715\n",
      "(120, 128, 16)\n",
      "(120, 128, 1, 16)\n",
      "batch 73 : total OK 6165 NOK 2715\n",
      "(120, 128, 16)\n",
      "(120, 128, 1, 16)\n",
      "batch 74 : total OK 6285 NOK 2715\n",
      "(120, 128, 16)\n",
      "(120, 128, 1, 16)\n",
      "batch 75 : total OK 6405 NOK 2715\n",
      "(120, 128, 16)\n",
      "(120, 128, 1, 16)\n",
      "batch 76 : total OK 6525 NOK 2715\n",
      "(120, 128, 16)\n",
      "(120, 128, 1, 16)\n",
      "batch 77 : total OK 6645 NOK 2715\n",
      "(120, 128, 16)\n",
      "(120, 128, 1, 16)\n",
      "batch 78 : total OK 6765 NOK 2715\n",
      "(120, 128, 16)\n",
      "(120, 128, 1, 16)\n",
      "batch 79 : total OK 6885 NOK 2715\n",
      "(120, 128, 16)\n",
      "(120, 128, 1, 16)\n",
      "batch 80 : total OK 7004 NOK 2716\n",
      "(120, 128, 16)\n",
      "(120, 128, 1, 16)\n",
      "batch 81 : total OK 7124 NOK 2716\n"
     ]
    }
   ],
   "source": [
    "ok = 0\n",
    "nok = 0\n",
    "for i in range(int(X_test.shape[0]/batch_size)):\n",
    "    batch_idx = i*batch_size\n",
    "    data, mod, snr = X_test[batch_idx:batch_idx+batch_size], Y_test[batch_idx:batch_idx+batch_size], Z_test[batch_idx:batch_idx+batch_size]\n",
    "\n",
    "    data = data.transpose(0,2,1)\n",
    "    data = data.reshape(-1, 16, 128)\n",
    "    data = data.transpose(0,2,1)\n",
    "    #x = x.reshape(-1,2,int(1024/interleave),int(interleave))\n",
    "    #x = x.permute(0,1,3,2).contiguous()\n",
    "    ibuf_normal = data.reshape(accel.ishape_normal)\n",
    "    obuf_normal = accel.execute(ibuf_normal)\n",
    "    obuf_normal = obuf_normal.reshape(batch_size)\n",
    "    #obuf_normal = post_process(obuf_normal)\n",
    "    \n",
    "    pred = obuf_normal.astype(int)\n",
    "    \n",
    "    print(data.shape)\n",
    "    print(ibuf_normal.shape)\n",
    "    #print(obuf_normal.shape)  \n",
    "    #print(mod.shape)\n",
    "    #print(pred.shape)\n",
    "    \n",
    "    ok += np.equal(pred, mod).sum().item()\n",
    "    nok += np.not_equal(pred, mod).sum().item()\n",
    "    \n",
    "    print(\"batch %d : total OK %d NOK %d\" % (i, ok, nok))"
   ]
  },
  {
   "cell_type": "code",
   "execution_count": 33,
   "metadata": {},
   "outputs": [
    {
     "name": "stdout",
     "output_type": "stream",
     "text": [
      "30dB top-1 accuracy: 72.39837398373983%\n"
     ]
    }
   ],
   "source": [
    "total = X_test.shape[0]\n",
    "acc = 100.0 * ok / (total)\n",
    "print(\"30dB top-1 accuracy: {}%\".format(acc))"
   ]
  },
  {
   "cell_type": "markdown",
   "metadata": {},
   "source": [
    "## More benchmarking"
   ]
  },
  {
   "cell_type": "code",
   "execution_count": 50,
   "metadata": {},
   "outputs": [
    {
     "data": {
      "text/plain": [
       "{'DRAM_in_bandwidth[Mb/s]': 435.46256676467607,\n",
       " 'DRAM_out_bandwidth[Mb/s]': 0.2126282064280645,\n",
       " 'batch_size': 1000,\n",
       " 'copy_input_data_to_device[ms]': 1.878499984741211,\n",
       " 'copy_output_data_from_device[ms]': 0.08535385131835938,\n",
       " 'fclk[mhz]': 187.498125,\n",
       " 'fold_input[ms]': 0.09822845458984375,\n",
       " 'pack_input[ms]': 0.11038780212402344,\n",
       " 'runtime[ms]': 4.703044891357422,\n",
       " 'throughput[images/s]': 212628.20642806447,\n",
       " 'unfold_output[ms]': 0.08726119995117188,\n",
       " 'unpack_output[ms]': 0.6067752838134766}"
      ]
     },
     "execution_count": 50,
     "metadata": {},
     "output_type": "execute_result"
    }
   ],
   "source": [
    "accel.batch_size = 1000\n",
    "accel.throughput_test()"
   ]
  },
  {
   "cell_type": "code",
   "execution_count": null,
   "metadata": {},
   "outputs": [],
   "source": []
  }
 ],
 "metadata": {
  "kernelspec": {
   "display_name": "Python 3",
   "language": "python",
   "name": "python3"
  },
  "language_info": {
   "codemirror_mode": {
    "name": "ipython",
    "version": 3
   },
   "file_extension": ".py",
   "mimetype": "text/x-python",
   "name": "python",
   "nbconvert_exporter": "python",
   "pygments_lexer": "ipython3",
   "version": "3.6.5"
  }
 },
 "nbformat": 4,
 "nbformat_minor": 2
}
